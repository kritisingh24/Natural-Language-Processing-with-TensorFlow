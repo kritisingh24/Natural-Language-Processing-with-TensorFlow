{
  "nbformat": 4,
  "nbformat_minor": 0,
  "metadata": {
    "colab": {
      "name": "text_classification_LSTM.ipynb",
      "provenance": [],
      "collapsed_sections": [],
      "include_colab_link": true
    },
    "kernelspec": {
      "name": "python3",
      "display_name": "Python 3"
    },
    "accelerator": "GPU"
  },
  "cells": [
    {
      "cell_type": "markdown",
      "metadata": {
        "id": "view-in-github",
        "colab_type": "text"
      },
      "source": [
        "<a href=\"https://colab.research.google.com/github/kritisingh24/Natural-Language-Processing-with-TensorFlow/blob/main/text_classification_LSTM.ipynb\" target=\"_parent\"><img src=\"https://colab.research.google.com/assets/colab-badge.svg\" alt=\"Open In Colab\"/></a>"
      ]
    },
    {
      "cell_type": "markdown",
      "metadata": {
        "id": "lTguFckTEDWd"
      },
      "source": [
        "# Implementing LSTMs using TensorFlow"
      ]
    },
    {
      "cell_type": "code",
      "metadata": {
        "id": "9mW3Mt2q5kL2",
        "colab": {
          "base_uri": "https://localhost:8080/"
        },
        "outputId": "14a8dd0f-d473-4fcc-cec7-a53a5b7e2adf"
      },
      "source": [
        "##import the required libraries and APIs\n",
        "import numpy as np\n",
        "import tensorflow as tf\n",
        "import tensorflow_datasets as tfds\n",
        "from tensorflow.keras.preprocessing.text import Tokenizer\n",
        "from tensorflow.keras.preprocessing.sequence import pad_sequences\n",
        "\n",
        "print(tf.__version__)"
      ],
      "execution_count": null,
      "outputs": [
        {
          "output_type": "stream",
          "name": "stdout",
          "text": [
            "2.7.0\n"
          ]
        }
      ]
    },
    {
      "cell_type": "markdown",
      "metadata": {
        "id": "2rhw0j_s5UZ2"
      },
      "source": [
        "## Downloading the Headlines data\n"
      ]
    },
    {
      "cell_type": "code",
      "metadata": {
        "id": "XlPflpsyyp5a"
      },
      "source": [
        "!wget --no-check-certificate \\\n",
        "    https://storage.googleapis.com/wdd-2-node.appspot.com/x1.json \\\n",
        "    -o /tmp/headlines.json"
      ],
      "execution_count": null,
      "outputs": []
    },
    {
      "cell_type": "code",
      "metadata": {
        "id": "qfu_3u4yWjJy",
        "colab": {
          "base_uri": "https://localhost:8080/",
          "height": 206
        },
        "outputId": "bb8ba2ef-a80b-4a2f-d61d-04b0032cc8b8"
      },
      "source": [
        "import pandas as pd\n",
        "\n",
        "data = pd.read_json(\"./x1.json\")\n",
        "data.head()"
      ],
      "execution_count": null,
      "outputs": [
        {
          "output_type": "execute_result",
          "data": {
            "text/html": [
              "\n",
              "  <div id=\"df-f2e5100c-5a31-4b15-8097-b6f4a769935c\">\n",
              "    <div class=\"colab-df-container\">\n",
              "      <div>\n",
              "<style scoped>\n",
              "    .dataframe tbody tr th:only-of-type {\n",
              "        vertical-align: middle;\n",
              "    }\n",
              "\n",
              "    .dataframe tbody tr th {\n",
              "        vertical-align: top;\n",
              "    }\n",
              "\n",
              "    .dataframe thead th {\n",
              "        text-align: right;\n",
              "    }\n",
              "</style>\n",
              "<table border=\"1\" class=\"dataframe\">\n",
              "  <thead>\n",
              "    <tr style=\"text-align: right;\">\n",
              "      <th></th>\n",
              "      <th>is_sarcastic</th>\n",
              "      <th>headline</th>\n",
              "      <th>article_link</th>\n",
              "    </tr>\n",
              "  </thead>\n",
              "  <tbody>\n",
              "    <tr>\n",
              "      <th>0</th>\n",
              "      <td>1</td>\n",
              "      <td>thirtysomething scientists unveil doomsday clo...</td>\n",
              "      <td>https://www.theonion.com/thirtysomething-scien...</td>\n",
              "    </tr>\n",
              "    <tr>\n",
              "      <th>1</th>\n",
              "      <td>0</td>\n",
              "      <td>dem rep. totally nails why congress is falling...</td>\n",
              "      <td>https://www.huffingtonpost.com/entry/donna-edw...</td>\n",
              "    </tr>\n",
              "    <tr>\n",
              "      <th>2</th>\n",
              "      <td>0</td>\n",
              "      <td>eat your veggies: 9 deliciously different recipes</td>\n",
              "      <td>https://www.huffingtonpost.com/entry/eat-your-...</td>\n",
              "    </tr>\n",
              "    <tr>\n",
              "      <th>3</th>\n",
              "      <td>1</td>\n",
              "      <td>inclement weather prevents liar from getting t...</td>\n",
              "      <td>https://local.theonion.com/inclement-weather-p...</td>\n",
              "    </tr>\n",
              "    <tr>\n",
              "      <th>4</th>\n",
              "      <td>1</td>\n",
              "      <td>mother comes pretty close to using word 'strea...</td>\n",
              "      <td>https://www.theonion.com/mother-comes-pretty-c...</td>\n",
              "    </tr>\n",
              "  </tbody>\n",
              "</table>\n",
              "</div>\n",
              "      <button class=\"colab-df-convert\" onclick=\"convertToInteractive('df-f2e5100c-5a31-4b15-8097-b6f4a769935c')\"\n",
              "              title=\"Convert this dataframe to an interactive table.\"\n",
              "              style=\"display:none;\">\n",
              "        \n",
              "  <svg xmlns=\"http://www.w3.org/2000/svg\" height=\"24px\"viewBox=\"0 0 24 24\"\n",
              "       width=\"24px\">\n",
              "    <path d=\"M0 0h24v24H0V0z\" fill=\"none\"/>\n",
              "    <path d=\"M18.56 5.44l.94 2.06.94-2.06 2.06-.94-2.06-.94-.94-2.06-.94 2.06-2.06.94zm-11 1L8.5 8.5l.94-2.06 2.06-.94-2.06-.94L8.5 2.5l-.94 2.06-2.06.94zm10 10l.94 2.06.94-2.06 2.06-.94-2.06-.94-.94-2.06-.94 2.06-2.06.94z\"/><path d=\"M17.41 7.96l-1.37-1.37c-.4-.4-.92-.59-1.43-.59-.52 0-1.04.2-1.43.59L10.3 9.45l-7.72 7.72c-.78.78-.78 2.05 0 2.83L4 21.41c.39.39.9.59 1.41.59.51 0 1.02-.2 1.41-.59l7.78-7.78 2.81-2.81c.8-.78.8-2.07 0-2.86zM5.41 20L4 18.59l7.72-7.72 1.47 1.35L5.41 20z\"/>\n",
              "  </svg>\n",
              "      </button>\n",
              "      \n",
              "  <style>\n",
              "    .colab-df-container {\n",
              "      display:flex;\n",
              "      flex-wrap:wrap;\n",
              "      gap: 12px;\n",
              "    }\n",
              "\n",
              "    .colab-df-convert {\n",
              "      background-color: #E8F0FE;\n",
              "      border: none;\n",
              "      border-radius: 50%;\n",
              "      cursor: pointer;\n",
              "      display: none;\n",
              "      fill: #1967D2;\n",
              "      height: 32px;\n",
              "      padding: 0 0 0 0;\n",
              "      width: 32px;\n",
              "    }\n",
              "\n",
              "    .colab-df-convert:hover {\n",
              "      background-color: #E2EBFA;\n",
              "      box-shadow: 0px 1px 2px rgba(60, 64, 67, 0.3), 0px 1px 3px 1px rgba(60, 64, 67, 0.15);\n",
              "      fill: #174EA6;\n",
              "    }\n",
              "\n",
              "    [theme=dark] .colab-df-convert {\n",
              "      background-color: #3B4455;\n",
              "      fill: #D2E3FC;\n",
              "    }\n",
              "\n",
              "    [theme=dark] .colab-df-convert:hover {\n",
              "      background-color: #434B5C;\n",
              "      box-shadow: 0px 1px 3px 1px rgba(0, 0, 0, 0.15);\n",
              "      filter: drop-shadow(0px 1px 2px rgba(0, 0, 0, 0.3));\n",
              "      fill: #FFFFFF;\n",
              "    }\n",
              "  </style>\n",
              "\n",
              "      <script>\n",
              "        const buttonEl =\n",
              "          document.querySelector('#df-f2e5100c-5a31-4b15-8097-b6f4a769935c button.colab-df-convert');\n",
              "        buttonEl.style.display =\n",
              "          google.colab.kernel.accessAllowed ? 'block' : 'none';\n",
              "\n",
              "        async function convertToInteractive(key) {\n",
              "          const element = document.querySelector('#df-f2e5100c-5a31-4b15-8097-b6f4a769935c');\n",
              "          const dataTable =\n",
              "            await google.colab.kernel.invokeFunction('convertToInteractive',\n",
              "                                                     [key], {});\n",
              "          if (!dataTable) return;\n",
              "\n",
              "          const docLinkHtml = 'Like what you see? Visit the ' +\n",
              "            '<a target=\"_blank\" href=https://colab.research.google.com/notebooks/data_table.ipynb>data table notebook</a>'\n",
              "            + ' to learn more about interactive tables.';\n",
              "          element.innerHTML = '';\n",
              "          dataTable['output_type'] = 'display_data';\n",
              "          await google.colab.output.renderOutput(dataTable, element);\n",
              "          const docLink = document.createElement('div');\n",
              "          docLink.innerHTML = docLinkHtml;\n",
              "          element.appendChild(docLink);\n",
              "        }\n",
              "      </script>\n",
              "    </div>\n",
              "  </div>\n",
              "  "
            ],
            "text/plain": [
              "   is_sarcastic  ...                                       article_link\n",
              "0             1  ...  https://www.theonion.com/thirtysomething-scien...\n",
              "1             0  ...  https://www.huffingtonpost.com/entry/donna-edw...\n",
              "2             0  ...  https://www.huffingtonpost.com/entry/eat-your-...\n",
              "3             1  ...  https://local.theonion.com/inclement-weather-p...\n",
              "4             1  ...  https://www.theonion.com/mother-comes-pretty-c...\n",
              "\n",
              "[5 rows x 3 columns]"
            ]
          },
          "metadata": {},
          "execution_count": 3
        }
      ]
    },
    {
      "cell_type": "code",
      "metadata": {
        "id": "2Q5KWU5sarBZ"
      },
      "source": [
        "##create arrays to store the headlines and labels\n",
        "headlines = list(data['headline'])\n",
        "labels = list(data['is_sarcastic'])"
      ],
      "execution_count": null,
      "outputs": []
    },
    {
      "cell_type": "markdown",
      "metadata": {
        "id": "IurKHrnzrUEk"
      },
      "source": [
        "## Data Preparation"
      ]
    },
    {
      "cell_type": "code",
      "metadata": {
        "id": "SaOVx5_QWZJw"
      },
      "source": [
        "##define tokenizing and padding parameters\n",
        "vocab_size = 10000\n",
        "max_length = 150\n",
        "embedding_dim = 32\n",
        "trunc_type='post'\n",
        "padding_type='post'\n",
        "oov_tok = \"<OOV>\"\n",
        "training_size = 20000  # define training size(index)"
      ],
      "execution_count": null,
      "outputs": []
    },
    {
      "cell_type": "code",
      "metadata": {
        "id": "iPCBLuAYWg-m"
      },
      "source": [
        "##training set from 0 to training size\n",
        "training_sentences = headlines[0:training_size]\n",
        "training_labels = labels[0:training_size]\n",
        "\n",
        "##testing set from training size to the end\n",
        "testing_sentences = headlines[training_size:]\n",
        "testing_labels = labels[training_size:]"
      ],
      "execution_count": null,
      "outputs": []
    },
    {
      "cell_type": "code",
      "metadata": {
        "id": "N4k_tDKJYSCL"
      },
      "source": [
        "##train the tokenizer on training data\n",
        "tokenizer = Tokenizer(num_words=vocab_size, oov_token=oov_tok)\n",
        "tokenizer.fit_on_texts(training_sentences)\n",
        "\n",
        "word_index = tokenizer.word_index\n",
        "\n",
        "##create training sequences\n",
        "training_sequences = tokenizer.texts_to_sequences(training_sentences)\n",
        "training_padded = pad_sequences(training_sequences, maxlen=max_length, padding=padding_type, truncating=trunc_type)\n",
        "\n",
        "##create test sequences\n",
        "testing_sequences = tokenizer.texts_to_sequences(testing_sentences)\n",
        "testing_padded = pad_sequences(testing_sequences, maxlen=max_length, padding=padding_type, truncating=trunc_type)"
      ],
      "execution_count": null,
      "outputs": []
    },
    {
      "cell_type": "code",
      "metadata": {
        "id": "hFZGH6WXeZAZ"
      },
      "source": [
        "# Need this block to get it to work with TensorFlow 2.x\n",
        "import numpy as np\n",
        "training_padded = np.array(training_padded)\n",
        "training_labels = np.array(training_labels)\n",
        "testing_padded = np.array(testing_padded)\n",
        "testing_labels = np.array(testing_labels)"
      ],
      "execution_count": null,
      "outputs": []
    },
    {
      "cell_type": "markdown",
      "metadata": {
        "id": "ZpBlIwAz7InY"
      },
      "source": [
        "## Define the LSTM model\n"
      ]
    },
    {
      "cell_type": "code",
      "metadata": {
        "id": "JdDjMIDFebsD"
      },
      "source": [
        "model = tf.keras.Sequential([\n",
        "    tf.keras.layers.Embedding(vocab_size, embedding_dim, input_length=max_length),\n",
        "    tf.keras.layers.Bidirectional(tf.keras.layers.LSTM(64, return_sequences=True)),\n",
        "    tf.keras.layers.Bidirectional(tf.keras.layers.LSTM(32)),\n",
        "    tf.keras.layers.Dense(24, activation='relu'),\n",
        "    tf.keras.layers.Dense(1, activation='sigmoid')\n",
        "])\n",
        "model.compile(loss='binary_crossentropy',optimizer='adam',metrics=['accuracy'])"
      ],
      "execution_count": null,
      "outputs": []
    },
    {
      "cell_type": "code",
      "metadata": {
        "id": "si5PeFv4ed5J",
        "colab": {
          "base_uri": "https://localhost:8080/"
        },
        "outputId": "d650f3b3-c3a8-4510-cc8a-a179c0d4919c"
      },
      "source": [
        "model.summary()"
      ],
      "execution_count": null,
      "outputs": [
        {
          "output_type": "stream",
          "name": "stdout",
          "text": [
            "Model: \"sequential\"\n",
            "_________________________________________________________________\n",
            " Layer (type)                Output Shape              Param #   \n",
            "=================================================================\n",
            " embedding (Embedding)       (None, 150, 32)           320000    \n",
            "                                                                 \n",
            " bidirectional (Bidirectiona  (None, 150, 128)         49664     \n",
            " l)                                                              \n",
            "                                                                 \n",
            " bidirectional_1 (Bidirectio  (None, 64)               41216     \n",
            " nal)                                                            \n",
            "                                                                 \n",
            " dense (Dense)               (None, 24)                1560      \n",
            "                                                                 \n",
            " dense_1 (Dense)             (None, 1)                 25        \n",
            "                                                                 \n",
            "=================================================================\n",
            "Total params: 412,465\n",
            "Trainable params: 412,465\n",
            "Non-trainable params: 0\n",
            "_________________________________________________________________\n"
          ]
        }
      ]
    },
    {
      "cell_type": "code",
      "metadata": {
        "id": "uuejoPk0efeb",
        "colab": {
          "base_uri": "https://localhost:8080/"
        },
        "outputId": "bb6baed9-f61a-4823-f4e6-6a3225dd91b8"
      },
      "source": [
        "num_epochs = 30\n",
        "history = model.fit(training_padded,\n",
        "                    training_labels,\n",
        "                    epochs=num_epochs,\n",
        "                    validation_data=(testing_padded, testing_labels),\n",
        "                    verbose=2)"
      ],
      "execution_count": null,
      "outputs": [
        {
          "output_type": "stream",
          "name": "stdout",
          "text": [
            "Epoch 1/30\n",
            "625/625 - 25s - loss: 0.3972 - accuracy: 0.8095 - val_loss: 0.3279 - val_accuracy: 0.8533 - 25s/epoch - 40ms/step\n",
            "Epoch 2/30\n",
            "625/625 - 15s - loss: 0.2016 - accuracy: 0.9186 - val_loss: 0.3384 - val_accuracy: 0.8578 - 15s/epoch - 25ms/step\n",
            "Epoch 3/30\n",
            "625/625 - 16s - loss: 0.1136 - accuracy: 0.9585 - val_loss: 0.4309 - val_accuracy: 0.8453 - 16s/epoch - 25ms/step\n",
            "Epoch 4/30\n",
            "625/625 - 15s - loss: 0.0646 - accuracy: 0.9777 - val_loss: 0.5029 - val_accuracy: 0.8441 - 15s/epoch - 25ms/step\n",
            "Epoch 5/30\n",
            "625/625 - 15s - loss: 0.0378 - accuracy: 0.9873 - val_loss: 0.6454 - val_accuracy: 0.8408 - 15s/epoch - 25ms/step\n",
            "Epoch 6/30\n",
            "625/625 - 15s - loss: 0.0270 - accuracy: 0.9916 - val_loss: 0.7319 - val_accuracy: 0.8352 - 15s/epoch - 25ms/step\n",
            "Epoch 7/30\n",
            "625/625 - 16s - loss: 0.0208 - accuracy: 0.9927 - val_loss: 0.7332 - val_accuracy: 0.8352 - 16s/epoch - 25ms/step\n",
            "Epoch 8/30\n",
            "625/625 - 16s - loss: 0.0138 - accuracy: 0.9955 - val_loss: 0.9664 - val_accuracy: 0.8352 - 16s/epoch - 25ms/step\n",
            "Epoch 9/30\n",
            "625/625 - 16s - loss: 0.0104 - accuracy: 0.9967 - val_loss: 0.9171 - val_accuracy: 0.8291 - 16s/epoch - 25ms/step\n",
            "Epoch 10/30\n",
            "625/625 - 16s - loss: 0.0123 - accuracy: 0.9959 - val_loss: 0.9556 - val_accuracy: 0.8351 - 16s/epoch - 25ms/step\n",
            "Epoch 11/30\n",
            "625/625 - 16s - loss: 0.0105 - accuracy: 0.9966 - val_loss: 0.9292 - val_accuracy: 0.8364 - 16s/epoch - 25ms/step\n",
            "Epoch 12/30\n",
            "625/625 - 16s - loss: 0.0074 - accuracy: 0.9976 - val_loss: 1.1436 - val_accuracy: 0.8247 - 16s/epoch - 25ms/step\n",
            "Epoch 13/30\n",
            "625/625 - 15s - loss: 0.0069 - accuracy: 0.9975 - val_loss: 1.1082 - val_accuracy: 0.8300 - 15s/epoch - 25ms/step\n",
            "Epoch 14/30\n",
            "625/625 - 16s - loss: 0.0077 - accuracy: 0.9976 - val_loss: 0.9868 - val_accuracy: 0.8299 - 16s/epoch - 25ms/step\n",
            "Epoch 15/30\n",
            "625/625 - 16s - loss: 0.0046 - accuracy: 0.9987 - val_loss: 1.0955 - val_accuracy: 0.8335 - 16s/epoch - 25ms/step\n",
            "Epoch 16/30\n",
            "625/625 - 16s - loss: 0.0051 - accuracy: 0.9984 - val_loss: 1.2408 - val_accuracy: 0.8318 - 16s/epoch - 25ms/step\n",
            "Epoch 17/30\n",
            "625/625 - 15s - loss: 0.0051 - accuracy: 0.9980 - val_loss: 1.0559 - val_accuracy: 0.8322 - 15s/epoch - 25ms/step\n",
            "Epoch 18/30\n",
            "625/625 - 16s - loss: 0.0034 - accuracy: 0.9989 - val_loss: 1.2636 - val_accuracy: 0.8296 - 16s/epoch - 25ms/step\n",
            "Epoch 19/30\n",
            "625/625 - 16s - loss: 0.0015 - accuracy: 0.9996 - val_loss: 1.3387 - val_accuracy: 0.8334 - 16s/epoch - 25ms/step\n",
            "Epoch 20/30\n",
            "625/625 - 16s - loss: 0.0018 - accuracy: 0.9995 - val_loss: 1.3724 - val_accuracy: 0.8344 - 16s/epoch - 25ms/step\n",
            "Epoch 21/30\n",
            "625/625 - 16s - loss: 0.0028 - accuracy: 0.9993 - val_loss: 1.2379 - val_accuracy: 0.8261 - 16s/epoch - 25ms/step\n",
            "Epoch 22/30\n",
            "625/625 - 16s - loss: 0.0060 - accuracy: 0.9981 - val_loss: 1.0926 - val_accuracy: 0.8317 - 16s/epoch - 25ms/step\n",
            "Epoch 23/30\n",
            "625/625 - 16s - loss: 0.0033 - accuracy: 0.9988 - val_loss: 1.4076 - val_accuracy: 0.8301 - 16s/epoch - 26ms/step\n",
            "Epoch 24/30\n",
            "625/625 - 16s - loss: 0.0019 - accuracy: 0.9995 - val_loss: 1.3986 - val_accuracy: 0.8173 - 16s/epoch - 25ms/step\n",
            "Epoch 25/30\n",
            "625/625 - 16s - loss: 0.0024 - accuracy: 0.9991 - val_loss: 1.3746 - val_accuracy: 0.8281 - 16s/epoch - 25ms/step\n",
            "Epoch 26/30\n",
            "625/625 - 16s - loss: 0.0020 - accuracy: 0.9995 - val_loss: 1.3854 - val_accuracy: 0.8281 - 16s/epoch - 25ms/step\n",
            "Epoch 27/30\n",
            "625/625 - 16s - loss: 0.0040 - accuracy: 0.9988 - val_loss: 1.3425 - val_accuracy: 0.8248 - 16s/epoch - 25ms/step\n",
            "Epoch 28/30\n",
            "625/625 - 16s - loss: 0.0010 - accuracy: 0.9997 - val_loss: 1.3774 - val_accuracy: 0.8288 - 16s/epoch - 25ms/step\n",
            "Epoch 29/30\n",
            "625/625 - 16s - loss: 7.7677e-04 - accuracy: 0.9998 - val_loss: 1.3149 - val_accuracy: 0.8240 - 16s/epoch - 25ms/step\n",
            "Epoch 30/30\n",
            "625/625 - 15s - loss: 6.4666e-04 - accuracy: 0.9998 - val_loss: 1.4177 - val_accuracy: 0.8243 - 15s/epoch - 25ms/step\n"
          ]
        }
      ]
    },
    {
      "cell_type": "markdown",
      "metadata": {
        "id": "WCutYyaNu5fb"
      },
      "source": [
        "## Visualize accuracy and loss"
      ]
    },
    {
      "cell_type": "code",
      "metadata": {
        "id": "iMQAQr-uehOD",
        "colab": {
          "base_uri": "https://localhost:8080/",
          "height": 541
        },
        "outputId": "b01b145e-a810-4e93-b386-1aae45c2e077"
      },
      "source": [
        "import matplotlib.pyplot as plt\n",
        "\n",
        "\n",
        "def plot_metrics(history, metric):\n",
        "  plt.plot(history.history[metric])\n",
        "  plt.plot(history.history['val_'+metric])\n",
        "  plt.xlabel(\"Epochs\")\n",
        "  plt.ylabel(metric)\n",
        "  plt.legend([metric, 'val_'+metric])\n",
        "  plt.show()\n",
        "  \n",
        "plot_metrics(history, \"accuracy\")\n",
        "plot_metrics(history, \"loss\")"
      ],
      "execution_count": null,
      "outputs": [
        {
          "output_type": "display_data",
          "data": {
            "image/png": "[encoded data removed]",
            "text/plain": [
              "<Figure size 432x288 with 1 Axes>"
            ]
          },
          "metadata": {
            "needs_background": "light"
          }
        },
        {
          "output_type": "display_data",
          "data": {
            "image/png": "[encoded data removed]",
            "text/plain": [
              "<Figure size 432x288 with 1 Axes>"
            ]
          },
          "metadata": {
            "needs_background": "light"
          }
        }
      ]
    },
    {
      "cell_type": "markdown",
      "metadata": {
        "id": "T3F5o1imvDwj"
      },
      "source": [
        "## Classifying unseen headlines"
      ]
    },
    {
      "cell_type": "code",
      "metadata": {
        "id": "2cVc8w-tejyj",
        "colab": {
          "base_uri": "https://localhost:8080/"
        },
        "outputId": "3de9f4f4-6347-4e5c-ec30-93c531f98ef2"
      },
      "source": [
        "sentence = [\"the girl starting to fear snakes in the garden might be real\", \"game of thrones season finale showing this sunday night\"]\n",
        "sequences = tokenizer.texts_to_sequences(sentence)\n",
        "padded = pad_sequences(sequences, maxlen=max_length, padding=padding_type, truncating=trunc_type)\n",
        "print(model.predict(padded))"
      ],
      "execution_count": null,
      "outputs": [
        {
          "output_type": "stream",
          "name": "stdout",
          "text": [
            "[[1.149817e-07]\n",
            " [5.021416e-08]]\n"
          ]
        }
      ]
    },
    {
      "cell_type": "markdown",
      "source": [
        "For both the sentences, the result is 0 which means non-sarcastic headlines."
      ],
      "metadata": {
        "id": "MpgeqBJm2kbC"
      }
    }
  ]
}