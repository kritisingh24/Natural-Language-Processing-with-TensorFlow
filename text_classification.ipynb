{
  "nbformat": 4,
  "nbformat_minor": 0,
  "metadata": {
    "colab": {
      "name": "text_classification.ipynb",
      "provenance": [],
      "collapsed_sections": [],
      "include_colab_link": true
    },
    "kernelspec": {
      "name": "python3",
      "display_name": "Python 3"
    }
  },
  "cells": [
    {
      "cell_type": "markdown",
      "metadata": {
        "id": "view-in-github",
        "colab_type": "text"
      },
      "source": [
        "<a href=\"https://colab.research.google.com/github/kritisingh24/Natural-Language-Processing-with-TensorFlow/blob/main/text_classification.ipynb\" target=\"_parent\"><img src=\"https://colab.research.google.com/assets/colab-badge.svg\" alt=\"Open In Colab\"/></a>"
      ]
    },
    {
      "cell_type": "code",
      "metadata": {
        "id": "9mW3Mt2q5kL2",
        "colab": {
          "base_uri": "https://localhost:8080/"
        },
        "outputId": "35c00427-2ae1-48b5-cd2c-db6e2896626f"
      },
      "source": [
        "##import the required libraries and APIs\n",
        "import numpy as np\n",
        "import tensorflow as tf\n",
        "from tensorflow.keras.preprocessing.text import Tokenizer\n",
        "from tensorflow.keras.preprocessing.sequence import pad_sequences\n",
        "\n",
        "print(tf.__version__)"
      ],
      "execution_count": null,
      "outputs": [
        {
          "output_type": "stream",
          "name": "stdout",
          "text": [
            "2.7.0\n"
          ]
        }
      ]
    },
    {
      "cell_type": "markdown",
      "metadata": {
        "id": "2rhw0j_s5UZ2"
      },
      "source": [
        "#### Downloading the News Headlines data"
      ]
    },
    {
      "cell_type": "code",
      "metadata": {
        "id": "XlPflpsyyp5a"
      },
      "source": [
        "!wget --no-check-certificate \\\n",
        "    https://storage.googleapis.com/wdd-2-node.appspot.com/x1.json \\\n",
        "    -o /tmp/headlines.json"
      ],
      "execution_count": null,
      "outputs": []
    },
    {
      "cell_type": "code",
      "metadata": {
        "colab": {
          "base_uri": "https://localhost:8080/",
          "height": 206
        },
        "id": "qfu_3u4yWjJy",
        "outputId": "4faa6a51-3820-430a-c2a3-f76d55854dd8"
      },
      "source": [
        "##read the the json file using pandas\n",
        "import pandas as pd\n",
        "\n",
        "data = pd.read_json(\"./x1.json\")\n",
        "data.head()"
      ],
      "execution_count": null,
      "outputs": [
        {
          "output_type": "execute_result",
          "data": {
            "text/html": [
              "\n",
              "  <div id=\"df-4f383cef-2fef-4f6b-99fa-853a5f277724\">\n",
              "    <div class=\"colab-df-container\">\n",
              "      <div>\n",
              "<style scoped>\n",
              "    .dataframe tbody tr th:only-of-type {\n",
              "        vertical-align: middle;\n",
              "    }\n",
              "\n",
              "    .dataframe tbody tr th {\n",
              "        vertical-align: top;\n",
              "    }\n",
              "\n",
              "    .dataframe thead th {\n",
              "        text-align: right;\n",
              "    }\n",
              "</style>\n",
              "<table border=\"1\" class=\"dataframe\">\n",
              "  <thead>\n",
              "    <tr style=\"text-align: right;\">\n",
              "      <th></th>\n",
              "      <th>is_sarcastic</th>\n",
              "      <th>headline</th>\n",
              "      <th>article_link</th>\n",
              "    </tr>\n",
              "  </thead>\n",
              "  <tbody>\n",
              "    <tr>\n",
              "      <th>0</th>\n",
              "      <td>1</td>\n",
              "      <td>thirtysomething scientists unveil doomsday clo...</td>\n",
              "      <td>https://www.theonion.com/thirtysomething-scien...</td>\n",
              "    </tr>\n",
              "    <tr>\n",
              "      <th>1</th>\n",
              "      <td>0</td>\n",
              "      <td>dem rep. totally nails why congress is falling...</td>\n",
              "      <td>https://www.huffingtonpost.com/entry/donna-edw...</td>\n",
              "    </tr>\n",
              "    <tr>\n",
              "      <th>2</th>\n",
              "      <td>0</td>\n",
              "      <td>eat your veggies: 9 deliciously different recipes</td>\n",
              "      <td>https://www.huffingtonpost.com/entry/eat-your-...</td>\n",
              "    </tr>\n",
              "    <tr>\n",
              "      <th>3</th>\n",
              "      <td>1</td>\n",
              "      <td>inclement weather prevents liar from getting t...</td>\n",
              "      <td>https://local.theonion.com/inclement-weather-p...</td>\n",
              "    </tr>\n",
              "    <tr>\n",
              "      <th>4</th>\n",
              "      <td>1</td>\n",
              "      <td>mother comes pretty close to using word 'strea...</td>\n",
              "      <td>https://www.theonion.com/mother-comes-pretty-c...</td>\n",
              "    </tr>\n",
              "  </tbody>\n",
              "</table>\n",
              "</div>\n",
              "      <button class=\"colab-df-convert\" onclick=\"convertToInteractive('df-4f383cef-2fef-4f6b-99fa-853a5f277724')\"\n",
              "              title=\"Convert this dataframe to an interactive table.\"\n",
              "              style=\"display:none;\">\n",
              "        \n",
              "  <svg xmlns=\"http://www.w3.org/2000/svg\" height=\"24px\"viewBox=\"0 0 24 24\"\n",
              "       width=\"24px\">\n",
              "    <path d=\"M0 0h24v24H0V0z\" fill=\"none\"/>\n",
              "    <path d=\"M18.56 5.44l.94 2.06.94-2.06 2.06-.94-2.06-.94-.94-2.06-.94 2.06-2.06.94zm-11 1L8.5 8.5l.94-2.06 2.06-.94-2.06-.94L8.5 2.5l-.94 2.06-2.06.94zm10 10l.94 2.06.94-2.06 2.06-.94-2.06-.94-.94-2.06-.94 2.06-2.06.94z\"/><path d=\"M17.41 7.96l-1.37-1.37c-.4-.4-.92-.59-1.43-.59-.52 0-1.04.2-1.43.59L10.3 9.45l-7.72 7.72c-.78.78-.78 2.05 0 2.83L4 21.41c.39.39.9.59 1.41.59.51 0 1.02-.2 1.41-.59l7.78-7.78 2.81-2.81c.8-.78.8-2.07 0-2.86zM5.41 20L4 18.59l7.72-7.72 1.47 1.35L5.41 20z\"/>\n",
              "  </svg>\n",
              "      </button>\n",
              "      \n",
              "  <style>\n",
              "    .colab-df-container {\n",
              "      display:flex;\n",
              "      flex-wrap:wrap;\n",
              "      gap: 12px;\n",
              "    }\n",
              "\n",
              "    .colab-df-convert {\n",
              "      background-color: #E8F0FE;\n",
              "      border: none;\n",
              "      border-radius: 50%;\n",
              "      cursor: pointer;\n",
              "      display: none;\n",
              "      fill: #1967D2;\n",
              "      height: 32px;\n",
              "      padding: 0 0 0 0;\n",
              "      width: 32px;\n",
              "    }\n",
              "\n",
              "    .colab-df-convert:hover {\n",
              "      background-color: #E2EBFA;\n",
              "      box-shadow: 0px 1px 2px rgba(60, 64, 67, 0.3), 0px 1px 3px 1px rgba(60, 64, 67, 0.15);\n",
              "      fill: #174EA6;\n",
              "    }\n",
              "\n",
              "    [theme=dark] .colab-df-convert {\n",
              "      background-color: #3B4455;\n",
              "      fill: #D2E3FC;\n",
              "    }\n",
              "\n",
              "    [theme=dark] .colab-df-convert:hover {\n",
              "      background-color: #434B5C;\n",
              "      box-shadow: 0px 1px 3px 1px rgba(0, 0, 0, 0.15);\n",
              "      filter: drop-shadow(0px 1px 2px rgba(0, 0, 0, 0.3));\n",
              "      fill: #FFFFFF;\n",
              "    }\n",
              "  </style>\n",
              "\n",
              "      <script>\n",
              "        const buttonEl =\n",
              "          document.querySelector('#df-4f383cef-2fef-4f6b-99fa-853a5f277724 button.colab-df-convert');\n",
              "        buttonEl.style.display =\n",
              "          google.colab.kernel.accessAllowed ? 'block' : 'none';\n",
              "\n",
              "        async function convertToInteractive(key) {\n",
              "          const element = document.querySelector('#df-4f383cef-2fef-4f6b-99fa-853a5f277724');\n",
              "          const dataTable =\n",
              "            await google.colab.kernel.invokeFunction('convertToInteractive',\n",
              "                                                     [key], {});\n",
              "          if (!dataTable) return;\n",
              "\n",
              "          const docLinkHtml = 'Like what you see? Visit the ' +\n",
              "            '<a target=\"_blank\" href=https://colab.research.google.com/notebooks/data_table.ipynb>data table notebook</a>'\n",
              "            + ' to learn more about interactive tables.';\n",
              "          element.innerHTML = '';\n",
              "          dataTable['output_type'] = 'display_data';\n",
              "          await google.colab.output.renderOutput(dataTable, element);\n",
              "          const docLink = document.createElement('div');\n",
              "          docLink.innerHTML = docLinkHtml;\n",
              "          element.appendChild(docLink);\n",
              "        }\n",
              "      </script>\n",
              "    </div>\n",
              "  </div>\n",
              "  "
            ],
            "text/plain": [
              "   is_sarcastic  ...                                       article_link\n",
              "0             1  ...  https://www.theonion.com/thirtysomething-scien...\n",
              "1             0  ...  https://www.huffingtonpost.com/entry/donna-edw...\n",
              "2             0  ...  https://www.huffingtonpost.com/entry/eat-your-...\n",
              "3             1  ...  https://local.theonion.com/inclement-weather-p...\n",
              "4             1  ...  https://www.theonion.com/mother-comes-pretty-c...\n",
              "\n",
              "[5 rows x 3 columns]"
            ]
          },
          "metadata": {},
          "execution_count": 28
        }
      ]
    },
    {
      "cell_type": "code",
      "metadata": {
        "colab": {
          "base_uri": "https://localhost:8080/"
        },
        "id": "sTSNIaUlRDzP",
        "outputId": "7f8b224d-cf5e-48ee-b6a4-01eb4f3cbd0a"
      },
      "source": [
        "data.info()"
      ],
      "execution_count": null,
      "outputs": [
        {
          "output_type": "stream",
          "name": "stdout",
          "text": [
            "<class 'pandas.core.frame.DataFrame'>\n",
            "RangeIndex: 28619 entries, 0 to 28618\n",
            "Data columns (total 3 columns):\n",
            " #   Column        Non-Null Count  Dtype \n",
            "---  ------        --------------  ----- \n",
            " 0   is_sarcastic  28619 non-null  int64 \n",
            " 1   headline      28619 non-null  object\n",
            " 2   article_link  28619 non-null  object\n",
            "dtypes: int64(1), object(2)\n",
            "memory usage: 670.9+ KB\n"
          ]
        }
      ]
    },
    {
      "cell_type": "code",
      "metadata": {
        "id": "2Q5KWU5sarBZ"
      },
      "source": [
        "##store headlines and labels in respective lists\n",
        "headlines = list(data['headline'])\n",
        "labels = list(data['is_sarcastic'])"
      ],
      "execution_count": null,
      "outputs": []
    },
    {
      "cell_type": "markdown",
      "metadata": {
        "id": "XrePJ_GANUzv"
      },
      "source": [
        "#### Set the parameters"
      ]
    },
    {
      "cell_type": "code",
      "metadata": {
        "id": "SaOVx5_QWZJw"
      },
      "source": [
        "##define tokenizing and padding parameters\n",
        "vocab_size = 10000\n",
        "max_length = 120\n",
        "embedding_dim = 16\n",
        "trunc_type='post'\n",
        "padding_type='post'\n",
        "oov_tok = \"<OOV>\"\n",
        "training_size = 20000"
      ],
      "execution_count": null,
      "outputs": []
    },
    {
      "cell_type": "markdown",
      "metadata": {
        "id": "TOa0z54JHTtq"
      },
      "source": [
        "#### Splitting the training and testing set"
      ]
    },
    {
      "cell_type": "code",
      "metadata": {
        "id": "iPCBLuAYWg-m"
      },
      "source": [
        "##sentences\n",
        "training_sentences = headlines[0:training_size]\n",
        "testing_sentences = headlines[training_size:]\n",
        "\n",
        "##labels\n",
        "training_labels = labels[0:training_size]\n",
        "testing_labels = labels[training_size:]"
      ],
      "execution_count": null,
      "outputs": []
    },
    {
      "cell_type": "markdown",
      "metadata": {
        "id": "2YPzEKN-NnTx"
      },
      "source": [
        "#### Preprocess sentences\n"
      ]
    },
    {
      "cell_type": "code",
      "metadata": {
        "id": "N4k_tDKJYSCL"
      },
      "source": [
        "tokenizer = Tokenizer(num_words=vocab_size, oov_token=oov_tok)\n",
        "tokenizer.fit_on_texts(training_sentences)\n",
        "\n",
        "word_index = tokenizer.word_index\n",
        "\n",
        "training_sequences = tokenizer.texts_to_sequences(training_sentences)\n",
        "training_padded = pad_sequences(training_sequences, maxlen=max_length, padding=padding_type, truncating=trunc_type)\n",
        "\n",
        "testing_sequences = tokenizer.texts_to_sequences(testing_sentences)\n",
        "testing_padded = pad_sequences(testing_sequences, maxlen=max_length, padding=padding_type, truncating=trunc_type)"
      ],
      "execution_count": null,
      "outputs": []
    },
    {
      "cell_type": "code",
      "metadata": {
        "id": "hFZGH6WXeZAZ"
      },
      "source": [
        "# convert lists into numpy arrays to make it work with TensorFlow 2.x\n",
        "training_padded = np.array(training_padded)\n",
        "training_labels = np.array(training_labels)\n",
        "testing_padded = np.array(testing_padded)\n",
        "testing_labels = np.array(testing_labels)"
      ],
      "execution_count": null,
      "outputs": []
    },
    {
      "cell_type": "code",
      "source": [
        "reverse_word_index = dict([(value,key) for (key,value) in word_index.items()])\n",
        "def decode_review(text):\n",
        "    return ' '.join([reverse_word_index.get(i,'?') for i in text])\n",
        "\n",
        "print(training_sentences[1])\n",
        "print(training_padded[1])\n",
        "print(decode_review(training_padded[1]))"
      ],
      "metadata": {
        "id": "SKKHRkCM_Vg2",
        "outputId": "a3bf9296-7842-4cfd-aebe-1d79d8c1200b",
        "colab": {
          "base_uri": "https://localhost:8080/"
        }
      },
      "execution_count": null,
      "outputs": [
        {
          "output_type": "stream",
          "name": "stdout",
          "text": [
            "dem rep. totally nails why congress is falling short on gender, racial equality\n",
            "[5818 1723  735 2490   47  248   11 1824  919    8 1825 2032 2297    0\n",
            "    0    0    0    0    0    0    0    0    0    0    0    0    0    0\n",
            "    0    0    0    0    0    0    0    0    0    0    0    0    0    0\n",
            "    0    0    0    0    0    0    0    0    0    0    0    0    0    0\n",
            "    0    0    0    0    0    0    0    0    0    0    0    0    0    0\n",
            "    0    0    0    0    0    0    0    0    0    0    0    0    0    0\n",
            "    0    0    0    0    0    0    0    0    0    0    0    0    0    0\n",
            "    0    0    0    0    0    0    0    0    0    0    0    0    0    0\n",
            "    0    0    0    0    0    0    0    0]\n",
            "dem rep totally nails why congress is falling short on gender racial equality ? ? ? ? ? ? ? ? ? ? ? ? ? ? ? ? ? ? ? ? ? ? ? ? ? ? ? ? ? ? ? ? ? ? ? ? ? ? ? ? ? ? ? ? ? ? ? ? ? ? ? ? ? ? ? ? ? ? ? ? ? ? ? ? ? ? ? ? ? ? ? ? ? ? ? ? ? ? ? ? ? ? ? ? ? ? ? ? ? ? ? ? ? ? ? ? ? ? ? ? ? ? ? ? ? ? ?\n"
          ]
        }
      ]
    },
    {
      "cell_type": "markdown",
      "metadata": {
        "id": "ZpBlIwAz7InY"
      },
      "source": [
        "#### Define the neural network model"
      ]
    },
    {
      "cell_type": "code",
      "metadata": {
        "id": "JdDjMIDFebsD"
      },
      "source": [
        "model = tf.keras.Sequential([\n",
        "    tf.keras.layers.Embedding(vocab_size, embedding_dim, input_length=max_length),#result will be 2D array with length of the sentence and embedding dimension\n",
        "    tf.keras.layers.Flatten(), #convert into 1D tensor\n",
        "    #tf.keras.layers.GlobalAveragePooling1D(),\n",
        "    tf.keras.layers.Dense(24, activation='relu'),#dense layer for classification addede with activation to add some non-linearity to the model\n",
        "    tf.keras.layers.Dense(1, activation='sigmoid')# sigmoid function used for binary classification like 0 or 1\n",
        "])\n",
        "\n",
        "##compile the model\n",
        "model.compile(loss='binary_crossentropy',optimizer='adam',metrics=['accuracy'])#binary_crossentropy used since we are classifying"
      ],
      "execution_count": null,
      "outputs": []
    },
    {
      "cell_type": "code",
      "metadata": {
        "colab": {
          "base_uri": "https://localhost:8080/"
        },
        "id": "si5PeFv4ed5J",
        "outputId": "603c5c0c-8892-4580-ebf4-dc2b47320e3c"
      },
      "source": [
        "model.summary()"
      ],
      "execution_count": null,
      "outputs": [
        {
          "output_type": "stream",
          "name": "stdout",
          "text": [
            "Model: \"sequential_3\"\n",
            "_________________________________________________________________\n",
            " Layer (type)                Output Shape              Param #   \n",
            "=================================================================\n",
            " embedding_3 (Embedding)     (None, 120, 16)           160000    \n",
            "                                                                 \n",
            " flatten_1 (Flatten)         (None, 1920)              0         \n",
            "                                                                 \n",
            " dense_6 (Dense)             (None, 24)                46104     \n",
            "                                                                 \n",
            " dense_7 (Dense)             (None, 1)                 25        \n",
            "                                                                 \n",
            "=================================================================\n",
            "Total params: 206,129\n",
            "Trainable params: 206,129\n",
            "Non-trainable params: 0\n",
            "_________________________________________________________________\n"
          ]
        }
      ]
    },
    {
      "cell_type": "markdown",
      "metadata": {
        "id": "q4Sk9WRYHbRh"
      },
      "source": [
        "#### Train the model\n",
        "\n"
      ]
    },
    {
      "cell_type": "code",
      "metadata": {
        "colab": {
          "base_uri": "https://localhost:8080/"
        },
        "id": "uuejoPk0efeb",
        "outputId": "849439d8-2650-44e5-e977-297aa71b5f17"
      },
      "source": [
        "num_epochs = 30\n",
        "history = model.fit(training_padded, \n",
        "                    training_labels, \n",
        "                    epochs=num_epochs, \n",
        "                    validation_data=(testing_padded, testing_labels), \n",
        "                    verbose=2)"
      ],
      "execution_count": null,
      "outputs": [
        {
          "output_type": "stream",
          "name": "stdout",
          "text": [
            "Epoch 1/30\n",
            "625/625 - 4s - loss: 0.5034 - accuracy: 0.7524 - val_loss: 0.3289 - val_accuracy: 0.8611 - 4s/epoch - 6ms/step\n",
            "Epoch 2/30\n",
            "625/625 - 3s - loss: 0.2402 - accuracy: 0.9029 - val_loss: 0.2928 - val_accuracy: 0.8696 - 3s/epoch - 5ms/step\n",
            "Epoch 3/30\n",
            "625/625 - 3s - loss: 0.1435 - accuracy: 0.9491 - val_loss: 0.3107 - val_accuracy: 0.8688 - 3s/epoch - 5ms/step\n",
            "Epoch 4/30\n",
            "625/625 - 3s - loss: 0.0826 - accuracy: 0.9751 - val_loss: 0.3519 - val_accuracy: 0.8649 - 3s/epoch - 5ms/step\n",
            "Epoch 5/30\n",
            "625/625 - 3s - loss: 0.0427 - accuracy: 0.9898 - val_loss: 0.4086 - val_accuracy: 0.8602 - 3s/epoch - 5ms/step\n",
            "Epoch 6/30\n",
            "625/625 - 3s - loss: 0.0207 - accuracy: 0.9965 - val_loss: 0.4628 - val_accuracy: 0.8579 - 3s/epoch - 5ms/step\n",
            "Epoch 7/30\n",
            "625/625 - 3s - loss: 0.0104 - accuracy: 0.9988 - val_loss: 0.5210 - val_accuracy: 0.8539 - 3s/epoch - 5ms/step\n",
            "Epoch 8/30\n",
            "625/625 - 3s - loss: 0.0051 - accuracy: 0.9996 - val_loss: 0.5734 - val_accuracy: 0.8525 - 3s/epoch - 5ms/step\n",
            "Epoch 9/30\n",
            "625/625 - 3s - loss: 0.0030 - accuracy: 0.9997 - val_loss: 0.6178 - val_accuracy: 0.8523 - 3s/epoch - 5ms/step\n",
            "Epoch 10/30\n",
            "625/625 - 3s - loss: 0.0020 - accuracy: 0.9998 - val_loss: 0.6584 - val_accuracy: 0.8498 - 3s/epoch - 5ms/step\n",
            "Epoch 11/30\n",
            "625/625 - 3s - loss: 0.0014 - accuracy: 0.9998 - val_loss: 0.6938 - val_accuracy: 0.8492 - 3s/epoch - 5ms/step\n",
            "Epoch 12/30\n",
            "625/625 - 3s - loss: 0.0011 - accuracy: 0.9998 - val_loss: 0.7386 - val_accuracy: 0.8471 - 3s/epoch - 5ms/step\n",
            "Epoch 13/30\n",
            "625/625 - 3s - loss: 8.8086e-04 - accuracy: 0.9998 - val_loss: 0.7719 - val_accuracy: 0.8478 - 3s/epoch - 5ms/step\n",
            "Epoch 14/30\n",
            "625/625 - 3s - loss: 7.5250e-04 - accuracy: 0.9998 - val_loss: 0.8145 - val_accuracy: 0.8459 - 3s/epoch - 5ms/step\n",
            "Epoch 15/30\n",
            "625/625 - 3s - loss: 7.0278e-04 - accuracy: 0.9998 - val_loss: 0.8688 - val_accuracy: 0.8412 - 3s/epoch - 5ms/step\n",
            "Epoch 16/30\n",
            "625/625 - 3s - loss: 5.3822e-04 - accuracy: 0.9999 - val_loss: 0.8820 - val_accuracy: 0.8446 - 3s/epoch - 5ms/step\n",
            "Epoch 17/30\n",
            "625/625 - 3s - loss: 3.9931e-04 - accuracy: 0.9999 - val_loss: 0.9291 - val_accuracy: 0.8424 - 3s/epoch - 5ms/step\n",
            "Epoch 18/30\n",
            "625/625 - 3s - loss: 3.1880e-04 - accuracy: 0.9999 - val_loss: 0.9514 - val_accuracy: 0.8415 - 3s/epoch - 5ms/step\n",
            "Epoch 19/30\n",
            "625/625 - 3s - loss: 2.5450e-04 - accuracy: 0.9999 - val_loss: 1.0003 - val_accuracy: 0.8420 - 3s/epoch - 5ms/step\n",
            "Epoch 20/30\n",
            "625/625 - 3s - loss: 3.0749e-04 - accuracy: 0.9999 - val_loss: 1.0945 - val_accuracy: 0.8329 - 3s/epoch - 5ms/step\n",
            "Epoch 21/30\n",
            "625/625 - 3s - loss: 3.0067e-04 - accuracy: 0.9999 - val_loss: 1.2758 - val_accuracy: 0.8255 - 3s/epoch - 5ms/step\n",
            "Epoch 22/30\n",
            "625/625 - 3s - loss: 3.7299e-04 - accuracy: 0.9998 - val_loss: 0.9809 - val_accuracy: 0.8393 - 3s/epoch - 5ms/step\n",
            "Epoch 23/30\n",
            "625/625 - 3s - loss: 1.7866e-04 - accuracy: 0.9999 - val_loss: 1.1364 - val_accuracy: 0.8369 - 3s/epoch - 5ms/step\n",
            "Epoch 24/30\n",
            "625/625 - 3s - loss: 3.5189e-04 - accuracy: 0.9999 - val_loss: 1.1121 - val_accuracy: 0.8350 - 3s/epoch - 5ms/step\n",
            "Epoch 25/30\n",
            "625/625 - 3s - loss: 3.0317e-04 - accuracy: 0.9999 - val_loss: 1.1970 - val_accuracy: 0.8340 - 3s/epoch - 5ms/step\n",
            "Epoch 26/30\n",
            "625/625 - 3s - loss: 2.8265e-04 - accuracy: 0.9999 - val_loss: 1.1665 - val_accuracy: 0.8368 - 3s/epoch - 5ms/step\n",
            "Epoch 27/30\n",
            "625/625 - 3s - loss: 3.4464e-04 - accuracy: 0.9998 - val_loss: 1.2331 - val_accuracy: 0.8315 - 3s/epoch - 5ms/step\n",
            "Epoch 28/30\n",
            "625/625 - 3s - loss: 3.5308e-04 - accuracy: 0.9999 - val_loss: 1.2034 - val_accuracy: 0.8349 - 3s/epoch - 5ms/step\n",
            "Epoch 29/30\n",
            "625/625 - 3s - loss: 2.7253e-04 - accuracy: 0.9999 - val_loss: 1.2695 - val_accuracy: 0.8336 - 3s/epoch - 5ms/step\n",
            "Epoch 30/30\n",
            "625/625 - 3s - loss: 3.6247e-04 - accuracy: 0.9999 - val_loss: 1.1111 - val_accuracy: 0.8341 - 3s/epoch - 5ms/step\n"
          ]
        }
      ]
    },
    {
      "cell_type": "markdown",
      "source": [
        "#### Downloading the vectors and metadata. Projecting embeddings on TensorFlow projector\n",
        "\n",
        "[TensorFlow projector](https://projector.tensorflow.org/)"
      ],
      "metadata": {
        "id": "u4uAU3ghAduU"
      }
    },
    {
      "cell_type": "code",
      "source": [
        "##extract the weights that are learned in the embedding layer\n",
        "\n",
        "##isolating the first embedding layer\n",
        "l1=model.layers[0]\n",
        "\n",
        "##extracting learned weights\n",
        "weights=l1.get_weights()[0] #get_weights function to derive the weights\n",
        "print(weights.shape)#shape:(vocab_size,embedding_dim)\n",
        "print(weights)"
      ],
      "metadata": {
        "id": "AL0ww7V1Aiaj",
        "outputId": "f318c870-d3de-46f3-e6c5-069f48f259f5",
        "colab": {
          "base_uri": "https://localhost:8080/"
        }
      },
      "execution_count": null,
      "outputs": [
        {
          "output_type": "stream",
          "name": "stdout",
          "text": [
            "(10000, 16)\n",
            "[[ 0.01158723 -0.00085309 -0.00068527 ... -0.0392344   0.01699553\n",
            "   0.0009592 ]\n",
            " [ 0.00495909  0.11762306  0.00575127 ...  0.04659241  0.06198197\n",
            "  -0.08935978]\n",
            " [-0.05474949  0.01701137  0.02317612 ...  0.16487934 -0.12342655\n",
            "   0.03595981]\n",
            " ...\n",
            " [ 0.08494246 -0.02156409  0.3277275  ...  0.19648263  0.11217133\n",
            "  -0.15140502]\n",
            " [-0.09877248 -0.1801487   0.03010521 ... -0.00660997  0.06503286\n",
            "   0.19716929]\n",
            " [-0.13966021 -0.12801886 -0.05201083 ... -0.06597796  0.07296599\n",
            "   0.15249044]]\n"
          ]
        }
      ]
    },
    {
      "cell_type": "code",
      "source": [
        "##import I/O module in python\n",
        "import io\n",
        "\n",
        "##open the text stream for vectors\n",
        "vectors = io.open('vectors.tsv', 'w', encoding='utf-8')\n",
        "\n",
        "##open the text stream for metadata\n",
        "meta = io.open('meta.tsv', 'w', encoding='utf-8')\n",
        "\n",
        "\n",
        "##write each word and its corresponding embedding\n",
        "for index in range(1, vocab_size):\n",
        "  word = reverse_word_index[index]  # flipping the key-value in word_index\n",
        "  embeddings = weights[index]\n",
        "  meta.write(word + \"\\n\")\n",
        "  vectors.write('\\t'.join([str(x) for x in embeddings]) + \"\\n\")\n",
        "\n",
        "##close the stream\n",
        "vectors.close()\n",
        "meta.close()"
      ],
      "metadata": {
        "id": "xy0FAdhaAkUI"
      },
      "execution_count": null,
      "outputs": []
    },
    {
      "cell_type": "code",
      "source": [
        "##download the written files to your local machine\n",
        "try:\n",
        "  from google.colab import files\n",
        "except ImportError:\n",
        "  pass\n",
        "else:\n",
        "  files.download('vectors.tsv')\n",
        "  files.download('meta.tsv')"
      ],
      "metadata": {
        "id": "QXbD7L1zAn9d",
        "outputId": "5a0143af-5731-41c5-927b-f533be55c48a",
        "colab": {
          "base_uri": "https://localhost:8080/",
          "height": 17
        }
      },
      "execution_count": null,
      "outputs": [
        {
          "output_type": "display_data",
          "data": {
            "application/javascript": [
              "\n",
              "    async function download(id, filename, size) {\n",
              "      if (!google.colab.kernel.accessAllowed) {\n",
              "        return;\n",
              "      }\n",
              "      const div = document.createElement('div');\n",
              "      const label = document.createElement('label');\n",
              "      label.textContent = `Downloading \"${filename}\": `;\n",
              "      div.appendChild(label);\n",
              "      const progress = document.createElement('progress');\n",
              "      progress.max = size;\n",
              "      div.appendChild(progress);\n",
              "      document.body.appendChild(div);\n",
              "\n",
              "      const buffers = [];\n",
              "      let downloaded = 0;\n",
              "\n",
              "      const channel = await google.colab.kernel.comms.open(id);\n",
              "      // Send a message to notify the kernel that we're ready.\n",
              "      channel.send({})\n",
              "\n",
              "      for await (const message of channel.messages) {\n",
              "        // Send a message to notify the kernel that we're ready.\n",
              "        channel.send({})\n",
              "        if (message.buffers) {\n",
              "          for (const buffer of message.buffers) {\n",
              "            buffers.push(buffer);\n",
              "            downloaded += buffer.byteLength;\n",
              "            progress.value = downloaded;\n",
              "          }\n",
              "        }\n",
              "      }\n",
              "      const blob = new Blob(buffers, {type: 'application/binary'});\n",
              "      const a = document.createElement('a');\n",
              "      a.href = window.URL.createObjectURL(blob);\n",
              "      a.download = filename;\n",
              "      div.appendChild(a);\n",
              "      a.click();\n",
              "      div.remove();\n",
              "    }\n",
              "  "
            ],
            "text/plain": [
              "<IPython.core.display.Javascript object>"
            ]
          },
          "metadata": {}
        },
        {
          "output_type": "display_data",
          "data": {
            "application/javascript": [
              "download(\"download_f16cf72d-9223-4745-a259-1c74d160b4c2\", \"vectors.tsv\", 1875594)"
            ],
            "text/plain": [
              "<IPython.core.display.Javascript object>"
            ]
          },
          "metadata": {}
        },
        {
          "output_type": "display_data",
          "data": {
            "application/javascript": [
              "\n",
              "    async function download(id, filename, size) {\n",
              "      if (!google.colab.kernel.accessAllowed) {\n",
              "        return;\n",
              "      }\n",
              "      const div = document.createElement('div');\n",
              "      const label = document.createElement('label');\n",
              "      label.textContent = `Downloading \"${filename}\": `;\n",
              "      div.appendChild(label);\n",
              "      const progress = document.createElement('progress');\n",
              "      progress.max = size;\n",
              "      div.appendChild(progress);\n",
              "      document.body.appendChild(div);\n",
              "\n",
              "      const buffers = [];\n",
              "      let downloaded = 0;\n",
              "\n",
              "      const channel = await google.colab.kernel.comms.open(id);\n",
              "      // Send a message to notify the kernel that we're ready.\n",
              "      channel.send({})\n",
              "\n",
              "      for await (const message of channel.messages) {\n",
              "        // Send a message to notify the kernel that we're ready.\n",
              "        channel.send({})\n",
              "        if (message.buffers) {\n",
              "          for (const buffer of message.buffers) {\n",
              "            buffers.push(buffer);\n",
              "            downloaded += buffer.byteLength;\n",
              "            progress.value = downloaded;\n",
              "          }\n",
              "        }\n",
              "      }\n",
              "      const blob = new Blob(buffers, {type: 'application/binary'});\n",
              "      const a = document.createElement('a');\n",
              "      a.href = window.URL.createObjectURL(blob);\n",
              "      a.download = filename;\n",
              "      div.appendChild(a);\n",
              "      a.click();\n",
              "      div.remove();\n",
              "    }\n",
              "  "
            ],
            "text/plain": [
              "<IPython.core.display.Javascript object>"
            ]
          },
          "metadata": {}
        },
        {
          "output_type": "display_data",
          "data": {
            "application/javascript": [
              "download(\"download_1e4873f6-6f8a-48f2-96a3-760b4ddd3307\", \"meta.tsv\", 76033)"
            ],
            "text/plain": [
              "<IPython.core.display.Javascript object>"
            ]
          },
          "metadata": {}
        }
      ]
    },
    {
      "cell_type": "markdown",
      "metadata": {
        "id": "35BigeicGmRo"
      },
      "source": [
        "#### Visualise the train & validation accuracy and loss"
      ]
    },
    {
      "cell_type": "code",
      "metadata": {
        "colab": {
          "base_uri": "https://localhost:8080/",
          "height": 541
        },
        "id": "iMQAQr-uehOD",
        "outputId": "676645b4-66fe-4770-ba7c-c15a51bbfb94"
      },
      "source": [
        "import matplotlib.pyplot as plt\n",
        "\n",
        "##plot the scores from history\n",
        "def plot_graphs(history, string):\n",
        "  plt.plot(history.history[string])\n",
        "  plt.plot(history.history['val_'+string])\n",
        "  plt.legend([string, 'val_'+string])\n",
        "  plt.xlabel(\"Epochs\")\n",
        "  plt.ylabel(string)\n",
        "  plt.show()\n",
        "  \n",
        "plot_graphs(history, \"accuracy\")\n",
        "plot_graphs(history, \"loss\")"
      ],
      "execution_count": null,
      "outputs": [
        {
          "output_type": "display_data",
          "data": {
            "image/png": "[encoded data removed]",
            "text/plain": [
              "<Figure size 432x288 with 1 Axes>"
            ]
          },
          "metadata": {
            "tags": [],
            "needs_background": "light"
          }
        },
        {
          "output_type": "display_data",
          "data": {
            "image/png": "[encoded data removed]",
            "text/plain": [
              "<Figure size 432x288 with 1 Axes>"
            ]
          },
          "metadata": {
            "tags": [],
            "needs_background": "light"
          }
        }
      ]
    },
    {
      "cell_type": "markdown",
      "metadata": {
        "id": "FLuGAkBaGzaP"
      },
      "source": [
        "## Classifying a new sentence"
      ]
    },
    {
      "cell_type": "code",
      "metadata": {
        "colab": {
          "base_uri": "https://localhost:8080/"
        },
        "id": "2cVc8w-tejyj",
        "outputId": "c632b8e8-4d7f-4668-adb1-def7ce500716"
      },
      "source": [
        "sentence = [\"the baby boy fears spiders in the garden might be real\", \"game of thrones season finale showing this sunday night\"]\n",
        "\n",
        "##prepare the sequences of the sentences in question\n",
        "sequences = tokenizer.texts_to_sequences(sentence)\n",
        "padded_seqs = pad_sequences(sequences, maxlen=max_length, padding=padding_type, truncating=trunc_type)\n",
        "\n",
        "print(model.predict(padded_seqs))"
      ],
      "execution_count": null,
      "outputs": [
        {
          "output_type": "stream",
          "text": [
            "[[5.3103111e-05]\n",
            " [1.4162402e-05]]\n"
          ],
          "name": "stdout"
        }
      ]
    },
    {
      "cell_type": "markdown",
      "source": [
        "The value is near to 0 which suggest non-sarcastic headlines."
      ],
      "metadata": {
        "id": "lkvJGgfJA44E"
      }
    }
  ]
}